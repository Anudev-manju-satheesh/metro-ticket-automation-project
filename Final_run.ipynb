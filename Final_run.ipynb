{
 "cells": [
  {
   "cell_type": "markdown",
   "id": "raising-leader",
   "metadata": {},
   "source": [
    "## Please read the attached pdf document and the limitations of this program before proceeding further."
   ]
  },
  {
   "cell_type": "markdown",
   "id": "comic-reservoir",
   "metadata": {},
   "source": [
    "### 1. Importing the necessary packages to run the whole program\n",
    "Using open cv for image capture. Keras and tensorflow to load the model that was trained on google colab.\n"
   ]
  },
  {
   "cell_type": "code",
   "execution_count": 1,
   "id": "native-rover",
   "metadata": {},
   "outputs": [],
   "source": [
    "import numpy as np\n",
    "import pandas as pd\n",
    "import cv2 as cv\n",
    "from tensorflow.keras.preprocessing import image\n",
    "import matplotlib.pyplot as plt\n",
    "import os\n",
    "from tensorflow import keras\n",
    "import tensorflow as tf\n",
    "from datetime import datetime\n",
    "from time import sleep"
   ]
  },
  {
   "cell_type": "markdown",
   "id": "powerful-situation",
   "metadata": {},
   "source": [
    "### 2. Loading the pretrained model\n",
    "The model was trained using google colab (Tesla T4 GPU). Further details of model training are provided in the model training ipynb file and a clear function to clear the screen."
   ]
  },
  {
   "cell_type": "code",
   "execution_count": 2,
   "id": "deadly-filling",
   "metadata": {},
   "outputs": [],
   "source": [
    "mod = tf.keras.models.load_model('currency_det.H5')"
   ]
  },
  {
   "cell_type": "code",
   "execution_count": 5,
   "id": "accomplished-plaintiff",
   "metadata": {},
   "outputs": [],
   "source": [
    "clear = lambda: os.system('cls')"
   ]
  },
  {
   "cell_type": "markdown",
   "id": "missing-selection",
   "metadata": {},
   "source": [
    "### 3. System initialization\n",
    "This cell below will ask the input while initializing the system. The number of transactions expected per day should be given while initialization. So that the whole program will loop that many times meaning if 5 is given as input, we can get 5 tickets. After the 5 tickets are taken the program will be terminated."
   ]
  },
  {
   "cell_type": "code",
   "execution_count": 6,
   "id": "protecting-airline",
   "metadata": {},
   "outputs": [
    {
     "name": "stdout",
     "output_type": "stream",
     "text": [
      "SYSTEM INITIALIZATION\n",
      "Enter the expected number of Transactions for the day: 2\n"
     ]
    },
    {
     "data": {
      "text/plain": [
       "0"
      ]
     },
     "execution_count": 6,
     "metadata": {},
     "output_type": "execute_result"
    }
   ],
   "source": [
    "print(\"SYSTEM INITIALIZATION\")\n",
    "daily_rep = int(input(\"Enter the expected number of Transactions for the day: \"))\n",
    "clear()"
   ]
  },
  {
   "cell_type": "markdown",
   "id": "indie-charlotte",
   "metadata": {},
   "source": [
    "### 4. Station details\n",
    "This code block defines the current station. I have opted the JLN Stadium station since it is on of the middle station of the whole metro rail. The further information on stations and charges were fetched from https://kochimetro.org/ ."
   ]
  },
  {
   "cell_type": "code",
   "execution_count": 7,
   "id": "cooperative-community",
   "metadata": {},
   "outputs": [],
   "source": [
    "current_station = 'JLN Stadium'\n",
    "stations = ['Aluva','Pulinchodu','Companypady','Ambattukavu','Muttom','Kalamassery','Cochin University',\n",
    "            'Pathadipalam','Edapally','Changampuzha Park','Palarivattom','Kaloor','Town hall','MG Road',\n",
    "            'Maharaja’s College','Ernakulam South','Kadavanthra','Elamkulam','Vyttila','Thaikoodam']\n",
    "charges = [40,40,40,40,30,30,30,20,20,20,10,10,20,20,20,30,30,30,40,40]\n"
   ]
  },
  {
   "cell_type": "markdown",
   "id": "human-italy",
   "metadata": {},
   "source": [
    "### 5. Ticket function\n",
    "The purpose of this function is to generate the ticket after every other parameters are provided."
   ]
  },
  {
   "cell_type": "code",
   "execution_count": 8,
   "id": "cross-weight",
   "metadata": {},
   "outputs": [],
   "source": [
    "def ticket(a): \n",
    "    print('-'*40)\n",
    "    print(\"          TICKET           \")\n",
    "    print(\"Time :\"+str(c_time))\n",
    "    print(\"Date :\"+str(c_date))\n",
    "    print(\"From :\"+str(current_station))\n",
    "    print('To   :'+str(station))\n",
    "    print(\"charge is: Rs \"+str(a))\n",
    "    print(\"Platform number is :\"+ str(plat))\n",
    "    print('-'*40)\n",
    "    print(''*20)"
   ]
  },
  {
   "cell_type": "markdown",
   "id": "dynamic-buffalo",
   "metadata": {},
   "source": [
    "### 6. Introduction screen\n",
    "This will be introduction screen for the customers where the customer have to give the station numeber as the input and the program will display the fair and the platform."
   ]
  },
  {
   "cell_type": "code",
   "execution_count": 9,
   "id": "liquid-purple",
   "metadata": {},
   "outputs": [],
   "source": [
    "def user_inp1():\n",
    "    print(\"*********WELCOME TO KOCHI METRO*********\")\n",
    "    print(\"You are at \"+current_station)\n",
    "    print(\"Selet your destination: \")\n",
    "    print('-'*20)\n",
    "    for i in range(len(stations)):\n",
    "        print(str(i+1) + ' : '+ stations[i] )\n",
    "    print('-'*20)\n",
    "    a = int(input('Enter the destination number: '))\n",
    "    global plat\n",
    "    plat = ''\n",
    "    if a > 12:\n",
    "        plat = \" 2 (towards Pettah)\"\n",
    "    else:\n",
    "        plat = '1 (towards Aluva)'\n",
    "    global charge\n",
    "    global station\n",
    "    charge = charges[a-1]\n",
    "    station = stations[a-1]\n",
    "    print('*'*30)\n",
    "    print('Selected destination is '+ stations[a-1]+' Fare is Rs: '+ str(charges[a-1]))\n"
   ]
  },
  {
   "cell_type": "markdown",
   "id": "western-toilet",
   "metadata": {},
   "source": [
    "### 7. Currency input\n",
    "The program will ask the number of notes the user is going to input"
   ]
  },
  {
   "cell_type": "code",
   "execution_count": 10,
   "id": "federal-venezuela",
   "metadata": {},
   "outputs": [],
   "source": [
    "def user_inp2():\n",
    "    global notes\n",
    "    print('-'*30)\n",
    "    notes = int(input(\"Please enter the number of notes:\"))\n",
    "    print('-'*30)\n",
    "    print(\"Place the money at the slot\")\n"
   ]
  },
  {
   "cell_type": "markdown",
   "id": "second-shift",
   "metadata": {},
   "source": [
    "### 8. Image capture\n",
    "This function opens up the camera of the device or the registered camera. In real case scenario these functions will be happening inside the machine. Since this is only just the code the notes have to be shown infornt of the camera one by one. 1st note should be shown and spacebar should be pressed to capture the image. If number of notes is more than 1 then other notes also have to be shown infront of the camera and spacebar should be pressed. The number of frames that can be captured is only equal to the user input of \"number of notes\"."
   ]
  },
  {
   "cell_type": "markdown",
   "id": "fantastic-prevention",
   "metadata": {},
   "source": [
    "file path have to be detemined by the admin before running the program and have to be changed accordingly.\n"
   ]
  },
  {
   "cell_type": "code",
   "execution_count": 12,
   "id": "essential-approach",
   "metadata": {},
   "outputs": [],
   "source": [
    "def user_inp3():\n",
    "    cam = cv.VideoCapture(0)\n",
    "    count = 0\n",
    "    while True:\n",
    "        ret,img = cam.read()\n",
    "        cv.imshow(\"Test\",img)\n",
    "        if not ret:\n",
    "            break\n",
    "        k=cv.waitKey(1)\n",
    "\n",
    "        if k%256==27:\n",
    "            print('Closed')\n",
    "            break\n",
    "        if k%256==32:\n",
    "#             print('image '+str(count)+' saved')\n",
    "            file = r'D:\\AI ML DL\\Metro ticket project\\Kochi metro ticket\\my_test\\img'+str(count)+'.jpg'\n",
    "            cv.imwrite(file,img)\n",
    "            if count<notes-1:\n",
    "                count +=1\n",
    "            else:\n",
    "                break\n",
    "    cam.release()\n",
    "    cv.destroyAllWindows()"
   ]
  },
  {
   "cell_type": "markdown",
   "id": "bulgarian-surgery",
   "metadata": {},
   "source": [
    "### 9. Using the model to calculate the input money by user\n",
    "This function will use the trained model to predict the user input notes and finds the total amount of money input by the user."
   ]
  },
  {
   "cell_type": "markdown",
   "id": "exclusive-television",
   "metadata": {},
   "source": [
    "Image path also have to be changed by the admin accordingly to the system."
   ]
  },
  {
   "cell_type": "code",
   "execution_count": 13,
   "id": "hybrid-stick",
   "metadata": {},
   "outputs": [],
   "source": [
    "def user_inp4():\n",
    "    tot_money = []\n",
    "    for i in range(notes):\n",
    "        img_path = r'D:\\AI ML DL\\Metro ticket project\\Kochi metro ticket\\my_test\\img'+str(i)+'.jpg'\n",
    "        img = image.load_img(img_path, target_size=(224, 224))\n",
    "#         plt.imshow(img)\n",
    "        x = image.img_to_array(img)\n",
    "        x = np.expand_dims(x, axis=0)\n",
    "        x = x/255.0\n",
    "#         print('Input image shape:', x.shape)\n",
    "        a = mod.predict(x)\n",
    "        pred = []\n",
    "        for i in a[0]:\n",
    "          pred.append(i)\n",
    "#         print(pred)\n",
    "        op = [10,100,20,200,2000,50,500,'background']\n",
    "        b = pred.index(max(pred))\n",
    "        global c\n",
    "        c = op[b]\n",
    "        if os.path.exists(img_path):\n",
    "            os.remove(img_path)\n",
    "#             print('file removed')\n",
    "        else:\n",
    "            print('file does not exist')\n",
    "            \n",
    "        if c=='background':\n",
    "            print(\"No amount detected please try from beginning\")\n",
    "            break\n",
    "        else:\n",
    "            tot_money.append(c)\n",
    "#     print(tot_money)\n",
    "    global s_total\n",
    "    s_total = sum(tot_money)"
   ]
  },
  {
   "cell_type": "markdown",
   "id": "coastal-sandwich",
   "metadata": {},
   "source": [
    "### 10. Using datetime module\n",
    "This functiom helps to capture the live date and time. This is used while printing the ticket."
   ]
  },
  {
   "cell_type": "code",
   "execution_count": 14,
   "id": "universal-corrections",
   "metadata": {},
   "outputs": [],
   "source": [
    "def dtime():\n",
    "    time = datetime.now()\n",
    "    global c_time\n",
    "    global c_date\n",
    "    c_time = time.strftime('%H:%M:%S')\n",
    "    c_date = time.strftime('%d/%m/%y')"
   ]
  },
  {
   "cell_type": "markdown",
   "id": "blocked-opportunity",
   "metadata": {},
   "source": [
    "### 11. User output function\n",
    "This function is used to give the user output that is the ticket. If the user provided the correct money it will print the tickt or extra money was provided then the balance amount will be shown. And the charges will be appended to the total_collection list. If the money provided is less than the charge the system provides an error message to put the correct money."
   ]
  },
  {
   "cell_type": "code",
   "execution_count": 15,
   "id": "wired-creation",
   "metadata": {},
   "outputs": [],
   "source": [
    "total_collection = []\n",
    "def op():\n",
    "    if charge== s_total:\n",
    "        ticket(s_total)\n",
    "        total_collection.append(charge)\n",
    "    elif charge>s_total:\n",
    "        print('x'*20)\n",
    "        print(\"Please provide the correct money.\")\n",
    "    else:\n",
    "        print('*'*20)\n",
    "        print(\"Your balance is Rs: \"+str(s_total-charge))\n",
    "        print('*'*20)\n",
    "        total_collection.append(charge)\n",
    "        ticket(charge)"
   ]
  },
  {
   "cell_type": "markdown",
   "id": "disabled-reflection",
   "metadata": {},
   "source": [
    "### 12. Final function\n",
    "This is the for loop where evry function in this program is called. This will loop for the input of system initializer. After every customer ticket will be shown for 15 seconds and then will move on to next customer. If in case the program has to be stopped before the given iteration at the input a password can be set which is known by only admin staffs (in this program its \"quit1234\"). And they can use this to terminate the run. Pressing any other key will result in continuation of the program."
   ]
  },
  {
   "cell_type": "code",
   "execution_count": 16,
   "id": "stable-following",
   "metadata": {},
   "outputs": [
    {
     "name": "stdout",
     "output_type": "stream",
     "text": [
      "Press any key to continue :f\n",
      "*********WELCOME TO KOCHI METRO*********\n",
      "You are at JLN Stadium\n",
      "Selet your destination: \n",
      "--------------------\n",
      "1 : Aluva\n",
      "2 : Pulinchodu\n",
      "3 : Companypady\n",
      "4 : Ambattukavu\n",
      "5 : Muttom\n",
      "6 : Kalamassery\n",
      "7 : Cochin University\n",
      "8 : Pathadipalam\n",
      "9 : Edapally\n",
      "10 : Changampuzha Park\n",
      "11 : Palarivattom\n",
      "12 : Kaloor\n",
      "13 : Town hall\n",
      "14 : MG Road\n",
      "15 : Maharaja’s College\n",
      "16 : Ernakulam South\n",
      "17 : Kadavanthra\n",
      "18 : Elamkulam\n",
      "19 : Vyttila\n",
      "20 : Thaikoodam\n",
      "--------------------\n",
      "Enter the destination number: 20\n",
      "******************************\n",
      "Selected destination is Thaikoodam Fare is Rs: 40\n",
      "------------------------------\n",
      "Please enter the number of notes:1\n",
      "------------------------------\n",
      "Place the money at the slot\n",
      "********************\n",
      "Your balance is Rs: 60\n",
      "********************\n",
      "----------------------------------------\n",
      "          TICKET           \n",
      "Time :09:42:44\n",
      "Date :16/03/21\n",
      "From :JLN Stadium\n",
      "To   :Thaikoodam\n",
      "charge is: Rs 40\n",
      "Platform number is : 2 (towards Pettah)\n",
      "----------------------------------------\n",
      "\n",
      "Press any key to continue :g\n",
      "*********WELCOME TO KOCHI METRO*********\n",
      "You are at JLN Stadium\n",
      "Selet your destination: \n",
      "--------------------\n",
      "1 : Aluva\n",
      "2 : Pulinchodu\n",
      "3 : Companypady\n",
      "4 : Ambattukavu\n",
      "5 : Muttom\n",
      "6 : Kalamassery\n",
      "7 : Cochin University\n",
      "8 : Pathadipalam\n",
      "9 : Edapally\n",
      "10 : Changampuzha Park\n",
      "11 : Palarivattom\n",
      "12 : Kaloor\n",
      "13 : Town hall\n",
      "14 : MG Road\n",
      "15 : Maharaja’s College\n",
      "16 : Ernakulam South\n",
      "17 : Kadavanthra\n",
      "18 : Elamkulam\n",
      "19 : Vyttila\n",
      "20 : Thaikoodam\n",
      "--------------------\n",
      "Enter the destination number: 14\n",
      "******************************\n",
      "Selected destination is MG Road Fare is Rs: 20\n",
      "------------------------------\n",
      "Please enter the number of notes:1\n",
      "------------------------------\n",
      "Place the money at the slot\n",
      "xxxxxxxxxxxxxxxxxxxx\n",
      "Please provide the correct money.\n"
     ]
    }
   ],
   "source": [
    "for i in range(daily_rep):\n",
    "    x = input(\"Press any key to continue :\")\n",
    "    if x== \"quit1234\":\n",
    "        break\n",
    "    else:\n",
    "        user_inp1()\n",
    "        user_inp2()\n",
    "        user_inp3()\n",
    "        user_inp4()\n",
    "        dtime()\n",
    "        op()\n",
    "        sleep(15)\n",
    "        clear()"
   ]
  },
  {
   "cell_type": "markdown",
   "id": "faced-fight",
   "metadata": {},
   "source": [
    "### 13. Final collection \n",
    "In the real case scenario after every day the system should save the overall amount it has recieved. This is done with the help of appending charge of every customer to the total_collection list. After looping \"daily_rep\" number of times the total amount collected for the day will be shown on the screen."
   ]
  },
  {
   "cell_type": "code",
   "execution_count": 17,
   "id": "hybrid-emerald",
   "metadata": {},
   "outputs": [
    {
     "name": "stdout",
     "output_type": "stream",
     "text": [
      "Total money collected for the day is:40\n"
     ]
    }
   ],
   "source": [
    "print(\"Total money collected for the day is:\"+str(sum(total_collection)))"
   ]
  }
 ],
 "metadata": {
  "kernelspec": {
   "display_name": "Python 3",
   "language": "python",
   "name": "python3"
  },
  "language_info": {
   "codemirror_mode": {
    "name": "ipython",
    "version": 3
   },
   "file_extension": ".py",
   "mimetype": "text/x-python",
   "name": "python",
   "nbconvert_exporter": "python",
   "pygments_lexer": "ipython3",
   "version": "3.7.6"
  }
 },
 "nbformat": 4,
 "nbformat_minor": 5
}
